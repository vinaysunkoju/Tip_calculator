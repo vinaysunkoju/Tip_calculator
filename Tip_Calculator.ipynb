{
 "cells": [
  {
   "cell_type": "code",
   "execution_count": 2,
   "metadata": {},
   "outputs": [
    {
     "name": "stdout",
     "output_type": "stream",
     "text": [
      "enter bill amount1500\n",
      "enter tip percentage = 10\n",
      "Bill amount =  1500\n",
      "tip amount =  150.0\n",
      "Total bill =  1650.0\n"
     ]
    }
   ],
   "source": [
    "def tip_calculator(Bill):\n",
    "    tip_percentage = int(input(\"enter tip percentage = \"))\n",
    "    tip_amount = Bill * (tip_percentage/100)\n",
    "    total_bill = tip_amount + Bill\n",
    "    print(\"Bill amount = \", Bill)\n",
    "    print(\"tip amount = \", tip_amount)\n",
    "    print(\"Total bill = \", total_bill)\n",
    "\n",
    "Bill_amount = int(input(\"enter bill amount\"))\n",
    "tip_calculator(Bill_amount)"
   ]
  },
  {
   "cell_type": "code",
   "execution_count": null,
   "metadata": {},
   "outputs": [],
   "source": []
  }
 ],
 "metadata": {
  "kernelspec": {
   "display_name": "Python 3",
   "language": "python",
   "name": "python3"
  },
  "language_info": {
   "codemirror_mode": {
    "name": "ipython",
    "version": 3
   },
   "file_extension": ".py",
   "mimetype": "text/x-python",
   "name": "python",
   "nbconvert_exporter": "python",
   "pygments_lexer": "ipython3",
   "version": "3.7.4"
  }
 },
 "nbformat": 4,
 "nbformat_minor": 2
}
